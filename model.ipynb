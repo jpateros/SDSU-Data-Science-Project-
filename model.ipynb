{
 "cells": [
  {
   "cell_type": "code",
   "execution_count": 1,
   "metadata": {},
   "outputs": [
    {
     "name": "stdout",
     "output_type": "stream",
     "text": [
      "            count\n",
      "MatchID          \n",
      "7425367208    720\n",
      "7425288381    720\n",
      "7425165105    720\n",
      "7425319964    720\n",
      "7425127995    710\n",
      "...           ...\n",
      "6752616741     10\n",
      "6752609194     10\n",
      "6752603883     10\n",
      "6918595795     10\n",
      "5               1\n",
      "\n",
      "[2166 rows x 1 columns]\n"
     ]
    }
   ],
   "source": [
    "import pandas as pd\n",
    "\n",
    "df = pd.read_csv('large_amounts_of_data.csv')\n",
    "\n",
    "df = df[['Hero ID','Team','Order','Lane','MatchID']]\n",
    "\n",
    "# Count the number of duplicates for each unique MatchID\n",
    "duplicates_count = df['MatchID'].value_counts()\n",
    "\n",
    "# Print the count of duplicates for each unique MatchID\n",
    "print(duplicates_count.to_frame())"
   ]
  },
  {
   "cell_type": "code",
   "execution_count": 32,
   "metadata": {},
   "outputs": [
    {
     "name": "stdout",
     "output_type": "stream",
     "text": [
      "10014\n"
     ]
    }
   ],
   "source": [
    "import pandas as pd\n",
    "df = pd.read_csv('large_amounts_of_data.csv')\n",
    "# Keep only the first 10 consecutive rows of each match ID\n",
    "df_cleaned = df.groupby('MatchID').head(10)\n",
    "\n",
    "# Reset the index of the cleaned DataFrame\n",
    "df_cleaned.reset_index(drop=True, inplace=True)\n",
    "\n",
    "# Save the cleaned DataFrame to a CSV file\n",
    "df_cleaned.to_csv('cleaned_data.csv', index=False)\n",
    "clean = pd.read_csv('cleaned_data.csv')\n",
    "\n",
    "real_clean= clean.groupby('MatchID').head(10)\n",
    "\n",
    "# Reset the index of the cleaned DataFrame\n",
    "real_clean.reset_index(drop=True, inplace=True)\n",
    "real_clean.to_csv('cleaned_data.csv', index=False)\n",
    "\n",
    "df_real = pd.read_csv(\"cleaned_data.csv\")\n",
    "df_real = df_real.iloc[:, :44]\n",
    "df_real = df_real[df_real[\"MatchID\"] != 5]\n",
    "print(len(df_real['MatchID'].value_counts()))\n",
    "# df_real.head(10)"
   ]
  },
  {
   "cell_type": "code",
   "execution_count": 28,
   "metadata": {},
   "outputs": [
    {
     "name": "stderr",
     "output_type": "stream",
     "text": [
      "2023-11-09 01:50:49.584716: I tensorflow/tsl/cuda/cudart_stub.cc:28] Could not find cuda drivers on your machine, GPU will not be used.\n",
      "2023-11-09 01:50:49.798404: E tensorflow/compiler/xla/stream_executor/cuda/cuda_dnn.cc:9342] Unable to register cuDNN factory: Attempting to register factory for plugin cuDNN when one has already been registered\n",
      "2023-11-09 01:50:49.798444: E tensorflow/compiler/xla/stream_executor/cuda/cuda_fft.cc:609] Unable to register cuFFT factory: Attempting to register factory for plugin cuFFT when one has already been registered\n",
      "2023-11-09 01:50:49.798851: E tensorflow/compiler/xla/stream_executor/cuda/cuda_blas.cc:1518] Unable to register cuBLAS factory: Attempting to register factory for plugin cuBLAS when one has already been registered\n",
      "2023-11-09 01:50:49.855901: I tensorflow/tsl/cuda/cudart_stub.cc:28] Could not find cuda drivers on your machine, GPU will not be used.\n",
      "2023-11-09 01:50:49.867583: I tensorflow/core/platform/cpu_feature_guard.cc:182] This TensorFlow binary is optimized to use available CPU instructions in performance-critical operations.\n",
      "To enable the following instructions: AVX2 FMA, in other operations, rebuild TensorFlow with the appropriate compiler flags.\n",
      "2023-11-09 01:50:51.400980: W tensorflow/compiler/tf2tensorrt/utils/py_utils.cc:38] TF-TRT Warning: Could not find TensorRT\n"
     ]
    },
    {
     "name": "stdout",
     "output_type": "stream",
     "text": [
      "Model: \"sequential\"\n",
      "_________________________________________________________________\n",
      " Layer (type)                Output Shape              Param #   \n",
      "=================================================================\n",
      " conv2d (Conv2D)             (None, 8, 42, 32)         320       \n",
      "                                                                 \n",
      " max_pooling2d (MaxPooling2  (None, 4, 21, 32)         0         \n",
      " D)                                                              \n",
      "                                                                 \n",
      " flatten (Flatten)           (None, 2688)              0         \n",
      "                                                                 \n",
      " dense (Dense)               (None, 64)                172096    \n",
      "                                                                 \n",
      " dense_1 (Dense)             (None, 10)                650       \n",
      "                                                                 \n",
      "=================================================================\n",
      "Total params: 173066 (676.04 KB)\n",
      "Trainable params: 173066 (676.04 KB)\n",
      "Non-trainable params: 0 (0.00 Byte)\n",
      "_________________________________________________________________\n"
     ]
    }
   ],
   "source": [
    "import tensorflow as tf\n",
    "from tensorflow import keras\n",
    "from tensorflow.keras import layers\n",
    "\n",
    "# Create a Sequential model\n",
    "model = keras.Sequential()\n",
    "\n",
    "# Add a 2D convolutional layer with 32 filters\n",
    "model.add(layers.Conv2D(32, (3, 3), activation='relu', input_shape=(10, 44, 1)))\n",
    "\n",
    "# Add a max-pooling layer\n",
    "model.add(layers.MaxPooling2D((2, 2)))\n",
    "\n",
    "# Flatten the output from the previous layer\n",
    "model.add(layers.Flatten())\n",
    "\n",
    "# Add a dense (fully connected) layer with 64 units\n",
    "model.add(layers.Dense(64, activation='relu'))\n",
    "\n",
    "# Add the output layer with as many units as the number of lane classes\n",
    "# Adjust the number of units according to your specific problem\n",
    "model.add(layers.Dense(10, activation='softmax'))\n",
    "\n",
    "# Compile the model\n",
    "model.compile(optimizer='adam', loss='categorical_crossentropy', metrics=['accuracy'])\n",
    "\n",
    "# Print the model summary\n",
    "model.summary()\n"
   ]
  },
  {
   "cell_type": "code",
   "execution_count": null,
   "metadata": {},
   "outputs": [],
   "source": [
    "from sklearn.linear_model import LogisticRegression\n",
    "\n",
    "class DotaLanePredictor(torch.nn.Module):\n",
    "    def __init__(self, input_size, output_size):\n",
    "        super(LogisticRegression, self).__init__()\n",
    "        self.linear = torch.nn.Linear(n_inputs, n_outputs)\n",
    "\n",
    "        \n",
    "    def forward(self, x):"
   ]
  }
 ],
 "metadata": {
  "kernelspec": {
   "display_name": "venv",
   "language": "python",
   "name": "python3"
  },
  "language_info": {
   "codemirror_mode": {
    "name": "ipython",
    "version": 3
   },
   "file_extension": ".py",
   "mimetype": "text/x-python",
   "name": "python",
   "nbconvert_exporter": "python",
   "pygments_lexer": "ipython3",
   "version": "3.10.8"
  }
 },
 "nbformat": 4,
 "nbformat_minor": 2
}
