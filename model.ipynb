{
 "cells": [
  {
   "cell_type": "code",
   "execution_count": 1,
   "metadata": {},
   "outputs": [
    {
     "name": "stdout",
     "output_type": "stream",
     "text": [
      "            count\n",
      "MatchID          \n",
      "7425367208    700\n",
      "7425319964    700\n",
      "7425288381    700\n",
      "7425165105    700\n",
      "7425127995    700\n",
      "...           ...\n",
      "7425756000    130\n",
      "7422420168    120\n",
      "7425763221     60\n",
      "7425768342     50\n",
      "7425792192     20\n",
      "\n",
      "[98 rows x 1 columns]\n"
     ]
    }
   ],
   "source": [
    "import pandas as pd\n",
    "\n",
    "df = pd.read_csv('large_amounts_of_data.csv')\n",
    "\n",
    "df = df[['Hero ID','Team','Order','Lane','MatchID']]\n",
    "\n",
    "# unique_match_ids = df['MatchID'].unique()\n",
    "\n",
    "# # Find the indices of rows where MatchID is unique and greater than 10\n",
    "# indices = [df[df['MatchID'] == match_id].index[0] for match_id in unique_match_ids if match_id > 11]\n",
    "\n",
    "# filtered_df = df.iloc[indices]\n",
    "# filtered_df\n",
    "# filtered_df = df[df['MatchID'] > 10]\n",
    "\n",
    "# Count the number of duplicates for each unique MatchID\n",
    "duplicates_count = df['MatchID'].value_counts()\n",
    "\n",
    "# Print the count of duplicates for each unique MatchID\n",
    "print(duplicates_count.to_frame())"
   ]
  },
  {
   "cell_type": "code",
   "execution_count": null,
   "metadata": {},
   "outputs": [],
   "source": []
  },
  {
   "cell_type": "code",
   "execution_count": null,
   "metadata": {},
   "outputs": [],
   "source": [
    "from sklearn.linear_model import LogisticRegression\n",
    "\n",
    "class DotaLanePredictor(torch.nn.Module):\n",
    "    def __init__(self, input_size, output_size):\n",
    "        super(LogisticRegression, self).__init__()\n",
    "        self.linear = torch.nn.Linear(n_inputs, n_outputs)\n",
    "\n",
    "        \n",
    "    def forward(self, x):"
   ]
  }
 ],
 "metadata": {
  "kernelspec": {
   "display_name": "venv",
   "language": "python",
   "name": "python3"
  },
  "language_info": {
   "codemirror_mode": {
    "name": "ipython",
    "version": 3
   },
   "file_extension": ".py",
   "mimetype": "text/x-python",
   "name": "python",
   "nbconvert_exporter": "python",
   "pygments_lexer": "ipython3",
   "version": "3.10.8"
  }
 },
 "nbformat": 4,
 "nbformat_minor": 2
}
