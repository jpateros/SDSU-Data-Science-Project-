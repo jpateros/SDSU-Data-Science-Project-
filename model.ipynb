{
 "cells": [
  {
   "cell_type": "code",
   "execution_count": 8,
   "metadata": {},
   "outputs": [
    {
     "name": "stdout",
     "output_type": "stream",
     "text": [
      "            count\n",
      "MatchID          \n",
      "7425367208    720\n",
      "7425288381    720\n",
      "7425165105    720\n",
      "7425319964    720\n",
      "7425127995    710\n",
      "...           ...\n",
      "7426370420     10\n",
      "7426365368     10\n",
      "7426363325     10\n",
      "7426307824     10\n",
      "2               8\n",
      "\n",
      "[139 rows x 1 columns]\n"
     ]
    }
   ],
   "source": [
    "import pandas as pd\n",
    "\n",
    "df = pd.read_csv('large_amounts_of_data.csv')\n",
    "\n",
    "df = df[['Hero ID','Team','Order','Lane','MatchID']]\n",
    "\n",
    "# Count the number of duplicates for each unique MatchID\n",
    "duplicates_count = df['MatchID'].value_counts()\n",
    "\n",
    "# Print the count of duplicates for each unique MatchID\n",
    "print(duplicates_count.to_frame())"
   ]
  },
  {
   "cell_type": "code",
   "execution_count": 34,
   "metadata": {},
   "outputs": [
    {
     "name": "stdout",
     "output_type": "stream",
     "text": [
      "191\n"
     ]
    }
   ],
   "source": [
    "df = pd.read_csv('large_amounts_of_data.csv')\n",
    "# Keep only the first 10 consecutive rows of each match ID\n",
    "df_cleaned = df.groupby('MatchID').head(10)\n",
    "\n",
    "# Reset the index of the cleaned DataFrame\n",
    "df_cleaned.reset_index(drop=True, inplace=True)\n",
    "\n",
    "# Save the cleaned DataFrame to a CSV file\n",
    "df_cleaned.to_csv('cleaned_data.csv', index=False)\n",
    "clean = pd.read_csv('cleaned_data.csv')\n",
    "\n",
    "real_clean= clean.groupby('MatchID').head(10)\n",
    "\n",
    "# Reset the index of the cleaned DataFrame\n",
    "real_clean.reset_index(drop=True, inplace=True)\n",
    "real_clean.to_csv('cleaned_data.csv', index=False)\n",
    "print(len(real_clean['MatchID'].value_counts()))"
   ]
  },
  {
   "cell_type": "code",
   "execution_count": null,
   "metadata": {},
   "outputs": [],
   "source": [
    "from sklearn.linear_model import LogisticRegression\n",
    "\n",
    "class DotaLanePredictor(torch.nn.Module):\n",
    "    def __init__(self, input_size, output_size):\n",
    "        super(LogisticRegression, self).__init__()\n",
    "        self.linear = torch.nn.Linear(n_inputs, n_outputs)\n",
    "\n",
    "        \n",
    "    def forward(self, x):"
   ]
  }
 ],
 "metadata": {
  "kernelspec": {
   "display_name": "venv",
   "language": "python",
   "name": "python3"
  },
  "language_info": {
   "codemirror_mode": {
    "name": "ipython",
    "version": 3
   },
   "file_extension": ".py",
   "mimetype": "text/x-python",
   "name": "python",
   "nbconvert_exporter": "python",
   "pygments_lexer": "ipython3",
   "version": "3.10.8"
  }
 },
 "nbformat": 4,
 "nbformat_minor": 2
}
