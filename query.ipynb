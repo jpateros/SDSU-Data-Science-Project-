{
 "cells": [
  {
   "cell_type": "code",
   "execution_count": null,
   "metadata": {},
   "outputs": [],
   "source": [
    "import pandas as pd\n",
    "nested_dict = {91: {'Hero ID': 91, 'Team': 1, 'Order': 3, 'Lane': 1, 'smoke_of_deceit': 0, 'boots': 0, 'healing_salve': 0, 'blood_grenade': 1, 'clarity': 0, 'enchanted_mango': 0, 'branches': 1, 'magic_stick': 0, 'faerie_fire': 0, 'circlet': 0, 'gauntlets': 0, 'ward_observer': 0, 'tango': 0, 'ward_sentry': 1, 'dust_of_appearance': 0, 'slippers': 0, 'quelling_blade': 0, 'ring_of_protection': 0, 'magic_wand': 1, 'mantle': 0, 'crown': 0, 'recipe_bracer': 0, 'recipe_magic_wand': 0, 'chainmail': 0, 'blight_stone': 0, 'robe': 0, 'belt_of_strength': 0, 'band_of_elvenskin': 0, 'recipe_wraith_band': 0, 'wraith_band': 0, 'gloves': 0, 'infused_raindrops': 0, 'blades_of_attack': 0, 'orb_of_venom': 0, 'tpscroll': 0, 'robe_of_the_magi': 0, 'fluffy_hat': 0, 'ring_of_regen': 0, 'sobi_mask': 0, 'null_talisman': 0, 'buckler': 0, 'headdress': 0, 'ring_of_basilius': 0, 'wind_lace': 0}, 138: {'Hero ID': 138, 'Team': 1, 'Order': 0, 'Lane': 1, 'smoke_of_deceit': 0, 'boots': 0, 'healing_salve': 0, 'blood_grenade': 0, 'clarity': 0, 'enchanted_mango': 0, 'branches': 3, 'magic_stick': 0, 'faerie_fire': 0, 'circlet': 0, 'gauntlets': 0, 'ward_observer': 0, 'tango': 0, 'ward_sentry': 0, 'dust_of_appearance': 0, 'slippers': 0, 'quelling_blade': 0, 'ring_of_protection': 0, 'magic_wand': 1, 'mantle': 0, 'crown': 0, 'recipe_bracer': 0, 'recipe_magic_wand': 0, 'chainmail': 0, 'blight_stone': 0, 'robe': 0, 'belt_of_strength': 0, 'band_of_elvenskin': 0, 'recipe_wraith_band': 0, 'wraith_band': 0, 'gloves': 0, 'infused_raindrops': 0, 'blades_of_attack': 0, 'orb_of_venom': 0, 'tpscroll': 0, 'robe_of_the_magi': 0, 'fluffy_hat': 0, 'ring_of_regen': 0, 'sobi_mask': 0, 'null_talisman': 0, 'buckler': 0, 'headdress': 0, 'ring_of_basilius': 0, 'wind_lace': 0}, 3: {'Hero ID': 3, 'Team': 1, 'Order': 4, 'Lane': 3, 'smoke_of_deceit': 0, 'boots': 0, 'healing_salve': 0, 'blood_grenade': 1, 'clarity': 0, 'enchanted_mango': 1, 'branches': 0, 'magic_stick': 1, 'faerie_fire': 1, 'circlet': 0, 'gauntlets': 0, 'ward_observer': 0, 'tango': 1, 'ward_sentry': 0, 'dust_of_appearance': 0, 'slippers': 0, 'quelling_blade': 0, 'ring_of_protection': 0, 'magic_wand': 0, 'mantle': 0, 'crown': 0, 'recipe_bracer': 0, 'recipe_magic_wand': 0, 'chainmail': 0, 'blight_stone': 0, 'robe': 0, 'belt_of_strength': 0, 'band_of_elvenskin': 0, 'recipe_wraith_band': 0, 'wraith_band': 0, 'gloves': 0, 'infused_raindrops': 0, 'blades_of_attack': 0, 'orb_of_venom': 0, 'tpscroll': 0, 'robe_of_the_magi': 0, 'fluffy_hat': 0, 'ring_of_regen': 0, 'sobi_mask': 0, 'null_talisman': 0, 'buckler': 0, 'headdress': 0, 'ring_of_basilius': 0, 'wind_lace': 0}, 84: {'Hero ID': 84, 'Team': 1, 'Order': 8, 'Lane': 2, 'smoke_of_deceit': 0, 'boots': 0, 'healing_salve': 0, 'blood_grenade': 0, 'clarity': 0, 'enchanted_mango': 0, 'branches': 3, 'magic_stick': 0, 'faerie_fire': 0, 'circlet': 0, 'gauntlets': 2, 'ward_observer': 1, 'tango': 1, 'ward_sentry': 0, 'dust_of_appearance': 0, 'slippers': 0, 'quelling_blade': 0, 'ring_of_protection': 0, 'magic_wand': 0, 'mantle': 0, 'crown': 0, 'recipe_bracer': 0, 'recipe_magic_wand': 0, 'chainmail': 0, 'blight_stone': 0, 'robe': 0, 'belt_of_strength': 0, 'band_of_elvenskin': 0, 'recipe_wraith_band': 0, 'wraith_band': 0, 'gloves': 0, 'infused_raindrops': 0, 'blades_of_attack': 0, 'orb_of_venom': 0, 'tpscroll': 0, 'robe_of_the_magi': 0, 'fluffy_hat': 0, 'ring_of_regen': 0, 'sobi_mask': 0, 'null_talisman': 0, 'buckler': 0, 'headdress': 0, 'ring_of_basilius': 0, 'wind_lace': 0}, 77: {'Hero ID': 77, 'Team': 1, 'Order': 7, 'Lane': 3, 'smoke_of_deceit': 0, 'boots': 0, 'healing_salve': 0, 'blood_grenade': 0, 'clarity': 0, 'enchanted_mango': 0, 'branches': 0, 'magic_stick': 0, 'faerie_fire': 0, 'circlet': 2, 'gauntlets': 1, 'ward_observer': 0, 'tango': 0, 'ward_sentry': 0, 'dust_of_appearance': 0, 'slippers': 1, 'quelling_blade': 0, 'ring_of_protection': 0, 'magic_wand': 0, 'mantle': 0, 'crown': 0, 'recipe_bracer': 0, 'recipe_magic_wand': 0, 'chainmail': 0, 'blight_stone': 0, 'robe': 0, 'belt_of_strength': 0, 'band_of_elvenskin': 0, 'recipe_wraith_band': 0, 'wraith_band': 0, 'gloves': 0, 'infused_raindrops': 0, 'blades_of_attack': 0, 'orb_of_venom': 0, 'tpscroll': 0, 'robe_of_the_magi': 0, 'fluffy_hat': 0, 'ring_of_regen': 0, 'sobi_mask': 0, 'null_talisman': 0, 'buckler': 0, 'headdress': 0, 'ring_of_basilius': 0, 'wind_lace': 0}, 70: {'Hero ID': 70, 'Team': 0, 'Order': 9, 'Lane': 3, 'smoke_of_deceit': 0, 'boots': 0, 'healing_salve': 0, 'blood_grenade': 0, 'clarity': 0, 'enchanted_mango': 0, 'branches': 2, 'magic_stick': 0, 'faerie_fire': 0, 'circlet': 0, 'gauntlets': 0, 'ward_observer': 0, 'tango': 1, 'ward_sentry': 0, 'dust_of_appearance': 0, 'slippers': 0, 'quelling_blade': 1, 'ring_of_protection': 0, 'magic_wand': 0, 'mantle': 0, 'crown': 0, 'recipe_bracer': 0, 'recipe_magic_wand': 0, 'chainmail': 0, 'blight_stone': 0, 'robe': 0, 'belt_of_strength': 0, 'band_of_elvenskin': 0, 'recipe_wraith_band': 0, 'wraith_band': 0, 'gloves': 0, 'infused_raindrops': 0, 'blades_of_attack': 0, 'orb_of_venom': 1, 'tpscroll': 0, 'robe_of_the_magi': 0, 'fluffy_hat': 0, 'ring_of_regen': 0, 'sobi_mask': 0, 'null_talisman': 0, 'buckler': 0, 'headdress': 0, 'ring_of_basilius': 0, 'wind_lace': 0}, 69: {'Hero ID': 69, 'Team': 0, 'Order': 6, 'Lane': 1, 'smoke_of_deceit': 0, 'boots': 0, 'healing_salve': 0, 'blood_grenade': 0, 'clarity': 0, 'enchanted_mango': 0, 'branches': 3, 'magic_stick': 0, 'faerie_fire': 0, 'circlet': 0, 'gauntlets': 0, 'ward_observer': 0, 'tango': 1, 'ward_sentry': 0, 'dust_of_appearance': 0, 'slippers': 0, 'quelling_blade': 1, 'ring_of_protection': 0, 'magic_wand': 0, 'mantle': 0, 'crown': 0, 'recipe_bracer': 0, 'recipe_magic_wand': 0, 'chainmail': 0, 'blight_stone': 0, 'robe': 0, 'belt_of_strength': 0, 'band_of_elvenskin': 0, 'recipe_wraith_band': 0, 'wraith_band': 0, 'gloves': 0, 'infused_raindrops': 0, 'blades_of_attack': 0, 'orb_of_venom': 0, 'tpscroll': 0, 'robe_of_the_magi': 0, 'fluffy_hat': 0, 'ring_of_regen': 0, 'sobi_mask': 0, 'null_talisman': 0, 'buckler': 0, 'headdress': 0, 'ring_of_basilius': 0, 'wind_lace': 0}, 121: {'Hero ID': 121, 'Team': 0, 'Order': 5, 'Lane': 1, 'smoke_of_deceit': 0, 'boots': 0, 'healing_salve': 0, 'blood_grenade': 0, 'clarity': 0, 'enchanted_mango': 0, 'branches': 2, 'magic_stick': 1, 'faerie_fire': 1, 'circlet': 0, 'gauntlets': 0, 'ward_observer': 0, 'tango': 1, 'ward_sentry': 1, 'dust_of_appearance': 0, 'slippers': 0, 'quelling_blade': 0, 'ring_of_protection': 0, 'magic_wand': 0, 'mantle': 0, 'crown': 0, 'recipe_bracer': 0, 'recipe_magic_wand': 0, 'chainmail': 0, 'blight_stone': 0, 'robe': 0, 'belt_of_strength': 0, 'band_of_elvenskin': 0, 'recipe_wraith_band': 0, 'wraith_band': 0, 'gloves': 0, 'infused_raindrops': 0, 'blades_of_attack': 0, 'orb_of_venom': 0, 'tpscroll': 0, 'robe_of_the_magi': 0, 'fluffy_hat': 0, 'ring_of_regen': 0, 'sobi_mask': 0, 'null_talisman': 0, 'buckler': 0, 'headdress': 0, 'ring_of_basilius': 0, 'wind_lace': 0}, 31: {'Hero ID': 31, 'Team': 0, 'Order': 2, 'Lane': 3, 'smoke_of_deceit': 1, 'boots': 0, 'healing_salve': 0, 'blood_grenade': 1, 'clarity': 0, 'enchanted_mango': 1, 'branches': 0, 'magic_stick': 0, 'faerie_fire': 1, 'circlet': 0, 'gauntlets': 0, 'ward_observer': 0, 'tango': 1, 'ward_sentry': 0, 'dust_of_appearance': 0, 'slippers': 0, 'quelling_blade': 0, 'ring_of_protection': 0, 'magic_wand': 0, 'mantle': 0, 'crown': 0, 'recipe_bracer': 0, 'recipe_magic_wand': 0, 'chainmail': 0, 'blight_stone': 0, 'robe': 0, 'belt_of_strength': 0, 'band_of_elvenskin': 0, 'recipe_wraith_band': 0, 'wraith_band': 0, 'gloves': 0, 'infused_raindrops': 0, 'blades_of_attack': 0, 'orb_of_venom': 0, 'tpscroll': 0, 'robe_of_the_magi': 0, 'fluffy_hat': 0, 'ring_of_regen': 0, 'sobi_mask': 0, 'null_talisman': 0, 'buckler': 0, 'headdress': 0, 'ring_of_basilius': 0, 'wind_lace': 0}, 23: {'Hero ID': 23, 'Team': 0, 'Order': 1, 'Lane': 2, 'smoke_of_deceit': 0, 'boots': 0, 'healing_salve': 0, 'blood_grenade': 0, 'clarity': 0, 'enchanted_mango': 0, 'branches': 3, 'magic_stick': 0, 'faerie_fire': 1, 'circlet': 0, 'gauntlets': 0, 'ward_observer': 1, 'tango': 1, 'ward_sentry': 0, 'dust_of_appearance': 0, 'slippers': 0, 'quelling_blade': 1, 'ring_of_protection': 0, 'magic_wand': 0, 'mantle': 0, 'crown': 0, 'recipe_bracer': 0, 'recipe_magic_wand': 0, 'chainmail': 0, 'blight_stone': 0, 'robe': 0, 'belt_of_strength': 0, 'band_of_elvenskin': 0, 'recipe_wraith_band': 0, 'wraith_band': 0, 'gloves': 0, 'infused_raindrops': 0, 'blades_of_attack': 0, 'orb_of_venom': 0, 'tpscroll': 0, 'robe_of_the_magi': 0, 'fluffy_hat': 0, 'ring_of_regen': 0, 'sobi_mask': 0, 'null_talisman': 0, 'buckler': 0, 'headdress': 0, 'ring_of_basilius': 0, 'wind_lace': 0}}\n",
    "\n",
    "first_key = list(nested_dict.keys())[0]\n",
    "first_dict = nested_dict[first_key]\n",
    "\n",
    "df = pd.DataFrame([first_dict])\n",
    "i = 0\n",
    "for key in nested_dict:\n",
    "    if i != 0:\n",
    "        df2 = pd.DataFrame(nested_dict[key], index=[i])\n",
    "        df = pd.concat([df, df2])            \n",
    "    i = i + 1\n",
    "print(df)"
   ]
  },
  {
   "cell_type": "code",
   "execution_count": null,
   "metadata": {},
   "outputs": [],
   "source": [
    "df = pd.DataFrame()\n",
    "\n",
    "for key, inner_dict in nested_dict.items():\n",
    "    # Transpose the inner dictionary to convert it into a row\n",
    "    row_df = pd.DataFrame(inner_dict).T\n",
    "    # Add the row to the main DataFrame\n",
    "    df = pd.concat([df, row_df])\n",
    "\n",
    "# Reset the index for the final DataFrame\n",
    "df = df.reset_index(drop=True)\n",
    "\n",
    "print(df)"
   ]
  },
  {
   "cell_type": "code",
   "execution_count": null,
   "metadata": {},
   "outputs": [],
   "source": [
    "from OpenDotaAPI import OpenDotaAPI\n",
    "from DataPreProcess import DataPreprocessing\n",
    "import time\n",
    "\n",
    "def main(sleep_time = 2):\n",
    "    api = OpenDotaAPI(verbose= True)\n",
    "    data = DataPreprocessing()\n",
    "    recent_matches = filter_matches(api.get_recent_matches())\n",
    "    for recent_match in recent_matches:\n",
    "        time.sleep(sleep_time)\n",
    "        match_details = api.get_match_info(recent_match['match_id'])\n",
    "        data.get_all_current_match_tables(match_details)\n",
    "        # Get previous matches for all players with valid account ids\n",
    "        players_with_account = data.players[data.players['account_id'] > 0]\n",
    "        for i, player in players_with_account.iterrows():\n",
    "            time.sleep(sleep_time)\n",
    "            full_match_history = api.get_player_matches_history(player['account_id'])\n",
    "            if full_match_history:\n",
    "                data.get_previous_matches(match_details['match_id'], player['account_id'],\n",
    "                full_match_history, match_details['start_time'])\n",
    "    return data\n",
    "\n",
    "\n",
    "def filter_matches(matches_list):\n",
    "    return list(filter(lambda m: _filter_function(m), matches_list))\n",
    "\n",
    "def _filter_function(match):\n",
    "    if match['duration'] < 1000 or match['duration'] > 4200:\n",
    "        return False\n",
    "    elif match['lobby_type'] < 5 or match['lobby_type'] > 7:\n",
    "        return False\n",
    "    else:\n",
    "        return True\n"
   ]
  },
  {
   "cell_type": "code",
   "execution_count": null,
   "metadata": {},
   "outputs": [],
   "source": [
    "import datetime\n",
    "\n",
    "# Unix timestamp\n",
    "timestamp = 1697234873\n",
    "\n",
    "# Convert to a datetime object\n",
    "dt_object = datetime.datetime.utcfromtimestamp(timestamp)\n",
    "\n",
    "# Format the datetime as a string (adjust the format to your needs)\n",
    "formatted_time = dt_object.strftime('%Y-%m-%d %H:%M:%S')\n",
    "\n",
    "print(formatted_time)\n"
   ]
  }
 ],
 "metadata": {
  "kernelspec": {
   "display_name": "venv",
   "language": "python",
   "name": "python3"
  },
  "language_info": {
   "codemirror_mode": {
    "name": "ipython",
    "version": 3
   },
   "file_extension": ".py",
   "mimetype": "text/x-python",
   "name": "python",
   "nbconvert_exporter": "python",
   "pygments_lexer": "ipython3",
   "version": "3.10.8"
  }
 },
 "nbformat": 4,
 "nbformat_minor": 2
}
